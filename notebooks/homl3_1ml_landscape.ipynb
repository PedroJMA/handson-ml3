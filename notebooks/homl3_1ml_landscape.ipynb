{
 "cells": [
  {
   "cell_type": "markdown",
   "metadata": {},
   "source": [
    "# Hands-On Machine Learning by Géron\n",
    "\n",
    "Part I. The Fundamentals of Machine Learning \n",
    "\n",
    "# 1. The Machine Learning landscape \n",
    "\n",
    "A look at the map and learn about the main regions and the most notable landmarks: \n",
    "- supervised versus unsupervised learning\n",
    "- online versus batch learning, \n",
    "- instance based versus model-based learning\n",
    "\n",
    "Then we will look at the workflow of a typical ML project, discuss the main challenges you may face, and cover how to evaluate and fine-tune a Machine Learning system. "
   ]
  },
  {
   "cell_type": "markdown",
   "metadata": {},
   "source": [
    "## What is Machine Learning? \n",
    "\n",
    "Machine Learning is the science (and art) of programming computes so they can *learn from data*.\n",
    "\n",
    "## Why Use Machine Learning? \n",
    "\n",
    "Machine Learning can help humans learn. ML algorithms can be inspected to see what they have learned (although for some algorithms this can be tricky). \n",
    "Applying ML techniques to dig into large amounts of data can help discover patterns that were not immediately apparent. This is called *data mining*. \n",
    "\n",
    "To summarize, Machine Learning is great for: \n",
    "- Problems for which existing solutions require a lot of fine-tuning or long lists of rules: one Machine learning algorithm can often simplify code and perform better than the traditional approach. \n",
    "\n",
    "- Complex problems for which using a traditional approach yields no good solution: the best Machine Learning techniques can perhaps find a solution. \n",
    "\n",
    "- Fluctuating environments: a Machine Learning system can adapt to new data. \n",
    "\n",
    "- Getting insights about complex problems and large amounts of data. "
   ]
  },
  {
   "cell_type": "markdown",
   "metadata": {},
   "source": [
    "## Types of Machine Learning Systems\n",
    "\n",
    "\n",
    "### Supervised/Unsupervised Learning \n",
    "\n",
    "Machine Learning systems can be classified according to the amount and type of supervision they get during training. \n",
    "There are four major categories: \n",
    "1. supervised learning,\n",
    "2. unsupervised learning,\n",
    "3. smisupervised learning, \n",
    "4. and Reinforcement learning.\n",
    "\n",
    "#### Supervised Learning\n",
    "\n",
    "In *supervised learning*, the training set you feed to the algorithm includes the desired solutions, called *labels*. \n",
    "\n",
    "A typical supervised learning task is *classification* given a set of data with their *class*. \n",
    "\n",
    "Another typical task is to predict a *target* numeric value given a set of *features* called *predictors*. This sort of task is called *regression*. To train the system, you need to give it many examples of instances including both their predictors and their labels. \n",
    "\n",
    "Some regression algorithms can be used for classification as well, and vice versa. For example, *Logistic Regression* is commonly used for classification, as it can output a value that corresponds to the probability of belonging to a given class. \n",
    "\n",
    "> Note: In machine learning an *attribute* is a data type, while a *feature* has several meanings, depending on the context, but generally means an attribute plus its value. \n",
    "Many people use the words *attribute* and *feature* interchangeably. \n",
    "\n",
    "Some of the most important supervised learning algorithms: \n",
    "- k-nearest neighbors\n",
    "- linear regression\n",
    "- logistic regression \n",
    "- Support Vector Machines (SVMs)\n",
    "- Decision Trees and Random Forests \n",
    "- Neural Networks \n",
    "\n",
    "some neural network architectures can be unsupervised. They can also be semisupervised and unsupervised pretraining. \n",
    "\n",
    "\n",
    "#### Unsupervised learning \n",
    "\n",
    "In *unsupervised learning* the training data is unlabeled. The system tries to learn without a teacher. \n",
    "\n",
    "Some of themost important unsupervised learning algorithms (ch8-ch9): \n",
    "* Clustering \n",
    "    - K-Means\n",
    "    - DBSCAN\n",
    "    - Hierarchical Cluster Analysis (HCA)\n",
    "* Anomaly detection and novelty detection\n",
    "    - One-class SVM\n",
    "    - Isolation Forest\n",
    "* Visualization and dimensionality reduction \n",
    "    - Principal Component Analysis (PCA) \n",
    "    - Kernel PCA\n",
    "    - Locally Linear Embedding (LLE)\n",
    "    - t-Distributed Stochastic Neighbor Embedding (t-SNE)\n",
    "* Association rule learning \n",
    "    - Apriori\n",
    "    - Eclat\n",
    "\n",
    "*Visualization* algorithms are also good examples of unsupervised learning algorithms: you feed them a lot of complex and unlabeled data, and they output a 2D and 3D representation of our data that can easily be plotted. \n",
    "These algorithms try to preserve as much structure as they can so that you can understand how the data is organized and perhaps identify unsuspected patterns. \n",
    "\n",
    "A realted task is *dimensinality reduction*, in which the goal is to simplify the data without losing too much information. \n",
    "One way to do this is to merge several correlated features into one. \n",
    "This is called *feature extraction*. \n",
    "\n",
    "> Note: It is often a good idea to try to reduce the dimension of your training data using a dimensionality reduction algorithm before you feed it to another Machine Learning algorithm (such as a supervised learning algorithm). It will run much faster, the data will take up less disk and memory space, and in some cases it may also perform better. \n",
    "\n",
    "Yet another important unsupervised task is *anomaly detection*. The system is shown mostly normal instances during training, so it learns to recognize them; then, when it sees a new instance, it can tell whether it looks like a normal one or whether it is likely an anomaly. \n",
    "A very similar task is *novelty detection*: it aims to detect new instances that look different from all instances in the training set. \n",
    "\n",
    "Finally, another common unsupervised task is *association rule learning*, in which the goal is to dig into large amounts of data and discover interesting relations between attributes. \n",
    "\n",
    "\n",
    "#### Semisupervised Learning \n",
    "\n",
    "\n",
    "#### Reinforcement Learning \n"
   ]
  },
  {
   "cell_type": "markdown",
   "metadata": {},
   "source": [
    "### Batch and Online Learning \n",
    "\n",
    "\n",
    "#### Batch Learning \n",
    "\n",
    "\n",
    "#### Online Learning\n"
   ]
  },
  {
   "cell_type": "markdown",
   "metadata": {},
   "source": [
    "### Instance-Based versus Model-Based Learning \n",
    "\n",
    "\n",
    "#### Instance-based Learning \n",
    "\n",
    "#### Model-based Learning \n"
   ]
  },
  {
   "cell_type": "markdown",
   "metadata": {},
   "source": [
    "## Main Challenges of Machine Learning \n",
    "\n",
    "\n",
    "### Insufficient Quantity of Training Data \n",
    "\n",
    "\n",
    "### Nonrepresentative Training Data \n",
    "\n",
    "\n",
    "### Poor-Quality Data \n",
    "\n",
    "\n",
    "### Irrelevant Features \n",
    "\n",
    "\n",
    "### Overfitting the Training Data \n",
    "\n",
    "\n",
    "### Underfitting the Training Data \n",
    "\n",
    "\n",
    "### Stepping Back \n",
    "\n",
    "\n"
   ]
  },
  {
   "cell_type": "markdown",
   "metadata": {},
   "source": [
    "## Testing and Validating\n",
    "\n",
    "\n",
    "### Hyperparameter Tuning and Model Selection \n",
    "\n",
    "\n",
    "### Data Mismatch \n",
    "\n"
   ]
  },
  {
   "cell_type": "markdown",
   "metadata": {},
   "source": [
    "## Exercise \n",
    "\n"
   ]
  }
 ],
 "metadata": {
  "kernelspec": {
   "display_name": "Python 3 (ipykernel)",
   "language": "python",
   "name": "python3"
  },
  "language_info": {
   "codemirror_mode": {
    "name": "ipython",
    "version": 3
   },
   "file_extension": ".py",
   "mimetype": "text/x-python",
   "name": "python",
   "nbconvert_exporter": "python",
   "pygments_lexer": "ipython3",
   "version": "3.9.7"
  },
  "vscode": {
   "interpreter": {
    "hash": "fd04bb85e28578f4d28f65069915c3f2718f8efd68328f075a674f53eac28597"
   }
  }
 },
 "nbformat": 4,
 "nbformat_minor": 2
}
